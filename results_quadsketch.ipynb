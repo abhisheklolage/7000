{
  "nbformat": 4,
  "nbformat_minor": 0,
  "metadata": {
    "colab": {
      "name": "results-quadsketch.ipynb",
      "version": "0.3.2",
      "provenance": [],
      "collapsed_sections": []
    },
    "kernelspec": {
      "name": "python3",
      "display_name": "Python 3"
    }
  },
  "cells": [
    {
      "metadata": {
        "id": "i9dpPC_1ZsPd",
        "colab_type": "code",
        "colab": {
          "base_uri": "https://localhost:8080/",
          "height": 71
        },
        "outputId": "6df73c53-51d8-4f95-d9ab-94359c13134b"
      },
      "cell_type": "code",
      "source": [
        "from google.colab import drive\n",
        "drive.mount('/content/drive')\n",
        "\n",
        "# generated from similarity.ipynb\n",
        "!cp drive/My\\ Drive/bigdata/similarity/results/nn-true-answers.npz .\n",
        "# generated from similarity.ipynb\n",
        "!cp drive/My\\ Drive/bigdata/similarity/results/nn-qs-answers.npz .\n",
        "\n",
        "# generated from features.ipynb\n",
        "!cp drive/My\\ Drive/bigdata/similarity/true-classes.npz . \n",
        "# generated from features.ipynb\n",
        "!cp drive/My\\ Drive/bigdata/similarity/resnet50-pretrained-np-dump.npz .\n",
        "# generated from qs.cpp (local)\n",
        "!cp drive/My\\ Drive/bigdata/similarity/resnet50-qs-1282015-dump.npz.zip .\n",
        "!unzip resnet50-qs-1282015-dump.npz.zip"
      ],
      "execution_count": 13,
      "outputs": [
        {
          "output_type": "stream",
          "text": [
            "Drive already mounted at /content/drive; to attempt to forcibly remount, call drive.mount(\"/content/drive\", force_remount=True).\n",
            "Archive:  resnet50-qs-1282015-dump.npz.zip\n",
            "replace resnet50-qs-1282015-dump.npz? [y]es, [n]o, [A]ll, [N]one, [r]ename: n\n"
          ],
          "name": "stdout"
        }
      ]
    },
    {
      "metadata": {
        "id": "sibkOPhEZ5ey",
        "colab_type": "code",
        "colab": {}
      },
      "cell_type": "code",
      "source": [
        "import numpy as np\n",
        "\n",
        "'''\n",
        "Global inits\n",
        "'''\n",
        "\n",
        "# ground truth for training\n",
        "true_training_categories   = []\n",
        "# ground truth for queries\n",
        "true_query_categories      = []\n",
        "true_training_features     = []\n",
        "true_query_features        = []\n",
        "sketched_training_features = []\n",
        "sketched_query_features    = []\n",
        "\n",
        "true_answers = []\n",
        "sketched_answers = []\n",
        "DIM       = 2048\n",
        "\n",
        "'''\n",
        "Load query outputs, #number of queries long\n",
        "'''\n",
        "plain_answers_file   = np.load(\"nn-true-answers.npz\")\n",
        "sketched_answers_file = np.load(\"nn-qs-answers.npz\")\n",
        "stats_file          = np.load(\"stats.npz\")\n",
        "\n",
        "# answers from original features\n",
        "plain_answers = plain_answers_file['true_answers']\n",
        "# answers from sketched features\n",
        "sketched_answers = sketched_answers_file['sketched_answers']\n",
        "#\n",
        "accuracy = stats_file['accuracy']\n",
        "distortion = stats_file['distortion']\n",
        "\n",
        "'''\n",
        "Load ground truth labels and embeddings\n",
        "'''\n",
        "# first entry of both is [], for class indexing 1-257\n",
        "true_file = np.load(\"true-classes.npz\", allow_pickle=True)\n",
        "train_ex = true_file['tr_paths'] # has first element as []\n",
        "query_ex = true_file['qr_paths'] # has first element as []\n",
        "for category in range(1, 258):\n",
        "    for im in train_ex[category]:\n",
        "        true_training_categories.append(int(im[1]))\n",
        "    for im in query_ex[category]:\n",
        "        true_query_categories.append(int(im[1]))\n",
        "\n",
        "## from the colab file, as is, no change required\n",
        "true_features_file = np.load(\"resnet50-pretrained-np-dump.npz\", allow_pickle=True)\n",
        "true_training_features = true_features_file['emb_training']\n",
        "true_query_features = true_features_file['emb_query']\n",
        "\n",
        "## from the cpp codes, requires to segregate training and query\n",
        "sketched_features_file = np.load(\"resnet50-qs-1282015-dump.npz\", allow_pickle=True)\n",
        "#print(sketched_features_file.files)\n",
        "all_sketched_features = sketched_features_file['qstq']\n",
        "all_sketched_features_N = [all_sketched_features[i * DIM: (i + 1) * DIM] for i in range(int(len(all_sketched_features)/2048))]\n",
        "NUM_QUERY  = len(true_query_features)\n",
        "NUM_TRAIN  = len(true_training_features)\n",
        "sketched_training_features = all_sketched_features_N[: NUM_TRAIN]\n",
        "sketched_query_features = all_sketched_features_N[NUM_TRAIN: len(all_sketched_features_N)]"
      ],
      "execution_count": 0,
      "outputs": []
    },
    {
      "metadata": {
        "id": "9yRIr0ETZ5tP",
        "colab_type": "code",
        "colab": {
          "base_uri": "https://localhost:8080/",
          "height": 107
        },
        "outputId": "dc19b5f6-c90a-4fa0-8da7-d9741fe7edda"
      },
      "cell_type": "code",
      "source": [
        "from numpy import linalg as LA\n",
        "\n",
        "## performance of plain vs ground truth\n",
        "count = 0\n",
        "for idx in range(len(plain_answers)):\n",
        "  if(plain_answers[idx][1] == plain_answers[idx][0]):\n",
        "    count += 1\n",
        "print(\"Acc of Plain Embeddings:\", count / len(plain_answers))\n",
        "\n",
        "## performance of QS vs ground truth\n",
        "count = 0\n",
        "for idx in range(len(sketched_answers)):\n",
        "  if(sketched_answers[idx][1] == sketched_answers[idx][0]):\n",
        "    count += 1\n",
        "print(\"Acc of Quad Sketch:\", count / len(sketched_answers))\n",
        "\n",
        "\n",
        "# Computing distortion\n",
        "    \n",
        "exact_counter = 0\n",
        "class_counter = 0\n",
        "distortion = 0.0\n",
        "for q in range(len(sketched_query_features)):\n",
        "    plain_answer_feature = true_training_features[plain_answers[q][2]]\n",
        "    dd2 = LA.norm(true_query_features[q] - plain_answer_feature)\n",
        "\n",
        "    if dd2 < 1e-3:\n",
        "      distortion += 1.0\n",
        "      exact_counter += 1\n",
        "      class_counter += 1\n",
        "    else:\n",
        "      dd1 = LA.norm(true_training_features[sketched_answers[q][2]] - true_query_features[q])\n",
        "      distortion += dd1/dd2\n",
        "      if(plain_answers[q][2] == sketched_answers[q][2]): # exact nearest neighbor pt\n",
        "        # same nearest neighbor, so same class\n",
        "        exact_counter += 1\n",
        "        class_counter += 1\n",
        "      else:\n",
        "        # different nearest neighbor\n",
        "        who1 = plain_answers[q][2]\n",
        "        who2 = sketched_answers[q][2]\n",
        "        # check for same class\n",
        "        if(true_training_categories[who1] == true_training_categories[who2]):\n",
        "          class_counter += 1\n",
        "        \n",
        "##\n",
        "distortion = distortion / len(sketched_query_features)\n",
        "accuracy = exact_counter / len(sketched_query_features)\n",
        "class_accuracy = class_counter / len(sketched_query_features)\n",
        "print(\"Avg Distortion: \", distortion)\n",
        "print(\"Exact Accuracy:\", accuracy)\n",
        "print(\"Class Accuracy:\", class_accuracy)"
      ],
      "execution_count": 16,
      "outputs": [
        {
          "output_type": "stream",
          "text": [
            "Acc of Plain Embeddings: 0.7327033412082349\n",
            "Acc of Quad Sketch: 0.7283158960512993\n",
            "Avg Distortion:  1.0016585672943727\n",
            "Exact Accuracy: 0.847789402632467\n",
            "Class Accuracy: 0.9375632804589943\n"
          ],
          "name": "stdout"
        }
      ]
    },
    {
      "metadata": {
        "id": "uZMZ_pqncZRl",
        "colab_type": "code",
        "colab": {}
      },
      "cell_type": "code",
      "source": [
        ""
      ],
      "execution_count": 0,
      "outputs": []
    },
    {
      "metadata": {
        "id": "H33dLGQmcZk9",
        "colab_type": "code",
        "colab": {}
      },
      "cell_type": "code",
      "source": [
        ""
      ],
      "execution_count": 0,
      "outputs": []
    }
  ]
}